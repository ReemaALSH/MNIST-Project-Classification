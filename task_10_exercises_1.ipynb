{
  "nbformat": 4,
  "nbformat_minor": 0,
  "metadata": {
    "kernelspec": {
      "display_name": "Python 3 (ipykernel)",
      "language": "python",
      "name": "python3"
    },
    "language_info": {
      "codemirror_mode": {
        "name": "ipython",
        "version": 3
      },
      "file_extension": ".py",
      "mimetype": "text/x-python",
      "name": "python",
      "nbconvert_exporter": "python",
      "pygments_lexer": "ipython3",
      "version": "3.8.10"
    },
    "colab": {
      "name": "task_10_exercises-1.ipynb",
      "provenance": []
    }
  },
  "cells": [
    {
      "cell_type": "markdown",
      "metadata": {
        "id": "k5kXVhOybMZq"
      },
      "source": [
        "# shAI Training 2021 | Level 1\n",
        "\n",
        "\n",
        "## Task#8 (MNIST Project part 2)\n",
        "\n",
        "### Classification\n",
        "\n",
        "- Before you start make sure you have latest Jupyter notebook version \n",
        "- <font color= red> If you have older version fetching the data might be different  </font>  \n"
      ]
    },
    {
      "cell_type": "code",
      "metadata": {
        "id": "ZXynO_ncbMZ3"
      },
      "source": [
        "import sklearn.datasets\n",
        "from sklearn.datasets import fetch_openml\n",
        "mnist =fetch_openml('mnist_784')\n",
        "x, y = mnist[\"data\"], mnist[\"target\"]"
      ],
      "execution_count": 1,
      "outputs": []
    },
    {
      "cell_type": "markdown",
      "metadata": {
        "id": "7WypbjnobMZ8"
      },
      "source": [
        "#### peek at one digit"
      ]
    },
    {
      "cell_type": "code",
      "metadata": {
        "colab": {
          "base_uri": "https://localhost:8080/",
          "height": 248
        },
        "id": "-UilW7WEbMZ-",
        "outputId": "8ab47a39-1d50-4d47-d6f6-e6f5d45a3c04"
      },
      "source": [
        "import matplotlib\n",
        "import matplotlib.pyplot as plt\n",
        "some_digit = x[40000]\n",
        "some_digit_image = some_digit.reshape(28, 28)\n",
        "plt.imshow(some_digit_image, cmap = matplotlib.cm.binary,\n",
        "interpolation=\"nearest\")\n",
        "plt.axis(\"off\")\n",
        "plt.show()"
      ],
      "execution_count": 2,
      "outputs": [
        {
          "output_type": "display_data",
          "data": {
            "image/png": "[encoded data removed]",
            "text/plain": [
              "<Figure size 432x288 with 1 Axes>"
            ]
          },
          "metadata": {
            "needs_background": "light"
          }
        }
      ]
    },
    {
      "cell_type": "code",
      "metadata": {
        "id": "vOGQnMk6bMaB"
      },
      "source": [
        "import numpy as np \n",
        "x_train, x_test, y_train, y_test = x[:60000], x[60000:], y[:60000], y[60000:]\n",
        "shuffle_index = np.random.permutation(60000)\n",
        "x_train, y_train = x_train[shuffle_index], y_train[shuffle_index]"
      ],
      "execution_count": 3,
      "outputs": []
    },
    {
      "cell_type": "code",
      "metadata": {
        "id": "0gjfA4SYbMaD"
      },
      "source": [
        "from sklearn.linear_model import SGDClassifier\n",
        "sgd_clf = SGDClassifier(random_state=42)"
      ],
      "execution_count": 4,
      "outputs": []
    },
    {
      "cell_type": "markdown",
      "metadata": {
        "id": "qupwVbvjbMaE"
      },
      "source": [
        "#### Try SGDCClassifier with multiple calss"
      ]
    },
    {
      "cell_type": "code",
      "metadata": {
        "colab": {
          "base_uri": "https://localhost:8080/"
        },
        "id": "UGnwm082bMaG",
        "outputId": "322ad84a-1eb6-47c9-f58f-d53c37598b7c"
      },
      "source": [
        "sgd_clf.fit(x_train, y_train)\n",
        "sgd_clf.predict([some_digit])"
      ],
      "execution_count": 5,
      "outputs": [
        {
          "output_type": "execute_result",
          "data": {
            "text/plain": [
              "array(['7'], dtype='<U1')"
            ]
          },
          "metadata": {},
          "execution_count": 5
        }
      ]
    },
    {
      "cell_type": "code",
      "metadata": {
        "id": "MlHgwitdbMaJ",
        "outputId": "f4ce7113-4c59-4917-ae00-4d51342b0d15"
      },
      "source": [
        "# CODE HERE\n"
      ],
      "execution_count": null,
      "outputs": [
        {
          "data": {
            "text/plain": [
              "array(['7'], dtype='<U1')"
            ]
          },
          "execution_count": 7,
          "metadata": {},
          "output_type": "execute_result"
        }
      ]
    },
    {
      "cell_type": "markdown",
      "metadata": {
        "id": "f8Gn1ObVbMaM"
      },
      "source": [
        "#### Call decision_function() method to return score for each instance "
      ]
    },
    {
      "cell_type": "code",
      "metadata": {
        "colab": {
          "base_uri": "https://localhost:8080/"
        },
        "id": "R5pAOy3ZbMaN",
        "outputId": "8c5fd3c7-dea2-405f-a6bf-89ce0271a48c"
      },
      "source": [
        "some_digit_scores =sgd_clf.decision_function([some_digit])\n",
        "some_digit_scores"
      ],
      "execution_count": 9,
      "outputs": [
        {
          "output_type": "execute_result",
          "data": {
            "text/plain": [
              "array([[-30974.0541865 , -26804.65476899, -23004.04129153,\n",
              "        -18442.57282337, -20445.73027913,  -8490.48048171,\n",
              "        -33081.54107961,   8214.07570622,  -7867.26443529,\n",
              "         -6434.45029852]])"
            ]
          },
          "metadata": {},
          "execution_count": 9
        }
      ]
    },
    {
      "cell_type": "code",
      "metadata": {
        "scrolled": true,
        "id": "uf8vDXESbMaO",
        "outputId": "0d83e286-bd88-400a-8360-12565beab89b"
      },
      "source": [
        "# CODE HERE\n"
      ],
      "execution_count": null,
      "outputs": [
        {
          "data": {
            "text/plain": [
              "array([[-37296.18207427, -16492.49425068, -12828.50505655,\n",
              "         -6944.5348217 , -22748.82994809, -12191.13411648,\n",
              "        -41100.70076137,   8379.10384634, -11199.35355947,\n",
              "         -4072.62874998]])"
            ]
          },
          "execution_count": 8,
          "metadata": {},
          "output_type": "execute_result"
        }
      ]
    },
    {
      "cell_type": "markdown",
      "metadata": {
        "id": "-OIPymyFbMaQ"
      },
      "source": [
        "#### find highest score "
      ]
    },
    {
      "cell_type": "code",
      "metadata": {
        "colab": {
          "base_uri": "https://localhost:8080/"
        },
        "id": "reoUO6yRbMaS",
        "outputId": "ecaff0cb-1644-433f-d20e-712f29a087e5"
      },
      "source": [
        "import numpy as np\n",
        "np.argmax(some_digit_scores)"
      ],
      "execution_count": 10,
      "outputs": [
        {
          "output_type": "execute_result",
          "data": {
            "text/plain": [
              "7"
            ]
          },
          "metadata": {},
          "execution_count": 10
        }
      ]
    },
    {
      "cell_type": "code",
      "metadata": {
        "id": "_68HrgUYbMaT",
        "outputId": "d78cfc9f-deb2-41ad-92a3-438f8fb11758"
      },
      "source": [
        "# CODE HERE\n"
      ],
      "execution_count": null,
      "outputs": [
        {
          "data": {
            "text/plain": [
              "7"
            ]
          },
          "execution_count": 9,
          "metadata": {},
          "output_type": "execute_result"
        }
      ]
    },
    {
      "cell_type": "markdown",
      "metadata": {
        "id": "7qlwb_mjbMaU"
      },
      "source": [
        "#### list the target classes"
      ]
    },
    {
      "cell_type": "code",
      "metadata": {
        "colab": {
          "base_uri": "https://localhost:8080/"
        },
        "id": "8X6y7Np4bMaV",
        "outputId": "e83332b0-8687-4b29-a045-9dcd9c4b912e"
      },
      "source": [
        "sgd_clf.classes_"
      ],
      "execution_count": 11,
      "outputs": [
        {
          "output_type": "execute_result",
          "data": {
            "text/plain": [
              "array(['0', '1', '2', '3', '4', '5', '6', '7', '8', '9'], dtype='<U1')"
            ]
          },
          "metadata": {},
          "execution_count": 11
        }
      ]
    },
    {
      "cell_type": "code",
      "metadata": {
        "id": "k8pJkMZVbMaW",
        "outputId": "d947668f-e25d-43a5-f968-0150e86cd6e3"
      },
      "source": [
        "# CODE HERE\n"
      ],
      "execution_count": null,
      "outputs": [
        {
          "data": {
            "text/plain": [
              "array(['0', '1', '2', '3', '4', '5', '6', '7', '8', '9'], dtype='<U1')"
            ]
          },
          "execution_count": 10,
          "metadata": {},
          "output_type": "execute_result"
        }
      ]
    },
    {
      "cell_type": "markdown",
      "metadata": {
        "id": "gE1RqzlMbMaX"
      },
      "source": [
        "#### Find the the target class for 7"
      ]
    },
    {
      "cell_type": "code",
      "metadata": {
        "colab": {
          "base_uri": "https://localhost:8080/",
          "height": 36
        },
        "id": "P7YNNwBWbMaY",
        "outputId": "fe8de517-499d-4869-a159-cd63fea76d0b"
      },
      "source": [
        "sgd_clf.classes_[7]"
      ],
      "execution_count": 12,
      "outputs": [
        {
          "output_type": "execute_result",
          "data": {
            "application/vnd.google.colaboratory.intrinsic+json": {
              "type": "string"
            },
            "text/plain": [
              "'7'"
            ]
          },
          "metadata": {},
          "execution_count": 12
        }
      ]
    },
    {
      "cell_type": "code",
      "metadata": {
        "id": "Oz881Fx6bMaa",
        "outputId": "54d2d99c-c794-47b1-e8a3-bb701bcefba8"
      },
      "source": [
        "# CODE HERE\n",
        "# if you got stuck use GOOGLE\n"
      ],
      "execution_count": null,
      "outputs": [
        {
          "data": {
            "text/plain": [
              "'7'"
            ]
          },
          "execution_count": 13,
          "metadata": {},
          "output_type": "execute_result"
        }
      ]
    },
    {
      "cell_type": "markdown",
      "metadata": {
        "id": "YuuruS_2bMab"
      },
      "source": [
        "#### Force ScikitLearn to use one-versus-one"
      ]
    },
    {
      "cell_type": "code",
      "metadata": {
        "id": "CLw3dRbwbMab"
      },
      "source": [
        "from sklearn.multiclass import OneVsOneClassifier"
      ],
      "execution_count": 13,
      "outputs": []
    },
    {
      "cell_type": "code",
      "metadata": {
        "colab": {
          "base_uri": "https://localhost:8080/"
        },
        "id": "jT1lkks1bMac",
        "outputId": "111cc4a0-f493-443e-d32d-9dc0c966fb3e"
      },
      "source": [
        "ovo_clf = OneVsOneClassifier(SGDClassifier(random_state=42))\n",
        "ovo_clf.fit(x_train, y_train)\n",
        "ovo_clf.predict([some_digit])"
      ],
      "execution_count": 19,
      "outputs": [
        {
          "output_type": "execute_result",
          "data": {
            "text/plain": [
              "array(['7'], dtype=object)"
            ]
          },
          "metadata": {},
          "execution_count": 19
        }
      ]
    },
    {
      "cell_type": "code",
      "metadata": {
        "id": "087d6dRrbMad",
        "outputId": "1b1ea5c3-60fc-4987-8ccc-61f0bed1d6b3"
      },
      "source": [
        "# CODE HERE\n"
      ],
      "execution_count": null,
      "outputs": [
        {
          "data": {
            "text/plain": [
              "array(['7'], dtype=object)"
            ]
          },
          "execution_count": 15,
          "metadata": {},
          "output_type": "execute_result"
        }
      ]
    },
    {
      "cell_type": "markdown",
      "metadata": {
        "id": "AOVxQduwbMae"
      },
      "source": [
        "#### find how many classifier OvO used"
      ]
    },
    {
      "cell_type": "code",
      "metadata": {
        "colab": {
          "base_uri": "https://localhost:8080/"
        },
        "id": "mYNHTVawbMae",
        "outputId": "c8e4d9f3-4e82-4807-fb8b-accc9c65e457"
      },
      "source": [
        "len(ovo_clf.estimators_)"
      ],
      "execution_count": 20,
      "outputs": [
        {
          "output_type": "execute_result",
          "data": {
            "text/plain": [
              "45"
            ]
          },
          "metadata": {},
          "execution_count": 20
        }
      ]
    },
    {
      "cell_type": "code",
      "metadata": {
        "id": "1z0MVhNRbMaf",
        "outputId": "5713cc4d-2ecc-4d0a-da07-9fb1f477debc"
      },
      "source": [
        "# CODE HERE\n"
      ],
      "execution_count": null,
      "outputs": [
        {
          "data": {
            "text/plain": [
              "45"
            ]
          },
          "execution_count": 16,
          "metadata": {},
          "output_type": "execute_result"
        }
      ]
    },
    {
      "cell_type": "markdown",
      "metadata": {
        "id": "Wl-1fbYYbMag"
      },
      "source": [
        "#### Train  RandomForestClassifier "
      ]
    },
    {
      "cell_type": "code",
      "metadata": {
        "id": "VFynzQWibMag"
      },
      "source": [
        "from sklearn.ensemble import RandomForestClassifier\n",
        "forest_clf = RandomForestClassifier(random_state=42)"
      ],
      "execution_count": 21,
      "outputs": []
    },
    {
      "cell_type": "code",
      "metadata": {
        "colab": {
          "base_uri": "https://localhost:8080/"
        },
        "id": "uI3cP0hDbMah",
        "outputId": "2fa254b8-c234-4777-9855-99e403946f2e"
      },
      "source": [
        "forest_clf.fit(x_train, y_train)\n",
        "forest_clf.predict([some_digit])"
      ],
      "execution_count": 23,
      "outputs": [
        {
          "output_type": "execute_result",
          "data": {
            "text/plain": [
              "array(['7'], dtype=object)"
            ]
          },
          "metadata": {},
          "execution_count": 23
        }
      ]
    },
    {
      "cell_type": "code",
      "metadata": {
        "id": "-ALb1mcNbMai",
        "outputId": "8525e904-49f9-450a-9059-318c274d9f17"
      },
      "source": [
        "# CODE HERE\n"
      ],
      "execution_count": null,
      "outputs": [
        {
          "data": {
            "text/plain": [
              "array(['7'], dtype=object)"
            ]
          },
          "execution_count": 20,
          "metadata": {},
          "output_type": "execute_result"
        }
      ]
    },
    {
      "cell_type": "markdown",
      "metadata": {
        "id": "gRf4-M1qbMaj"
      },
      "source": [
        "#### call predict_proba() to get the list of probabilities that the classifier assigned to each instance for each class"
      ]
    },
    {
      "cell_type": "code",
      "metadata": {
        "colab": {
          "base_uri": "https://localhost:8080/"
        },
        "id": "MHoGpIG6bMaj",
        "outputId": "f01c4247-a262-4113-a542-f5a0b3d22f2e"
      },
      "source": [
        "forest_clf.predict_proba([some_digit])"
      ],
      "execution_count": 24,
      "outputs": [
        {
          "output_type": "execute_result",
          "data": {
            "text/plain": [
              "array([[0., 0., 0., 0., 0., 0., 0., 1., 0., 0.]])"
            ]
          },
          "metadata": {},
          "execution_count": 24
        }
      ]
    },
    {
      "cell_type": "markdown",
      "metadata": {
        "id": "4e_xZxUVbMak"
      },
      "source": [
        "#### Find accurcy using cross validation score ()"
      ]
    },
    {
      "cell_type": "code",
      "metadata": {
        "id": "TZ6mQYMgbMal"
      },
      "source": [
        "from sklearn.model_selection import cross_val_score"
      ],
      "execution_count": 25,
      "outputs": []
    },
    {
      "cell_type": "code",
      "metadata": {
        "colab": {
          "base_uri": "https://localhost:8080/"
        },
        "id": "ul9nWQMUbMal",
        "outputId": "fcdb73a0-11b0-42bb-de0d-0280986abb62"
      },
      "source": [
        "cross_val_score(forest_clf, x_train, y_train, cv=3, scoring=\"accuracy\")"
      ],
      "execution_count": 26,
      "outputs": [
        {
          "output_type": "execute_result",
          "data": {
            "text/plain": [
              "array([0.96785, 0.964  , 0.96425])"
            ]
          },
          "metadata": {},
          "execution_count": 26
        }
      ]
    },
    {
      "cell_type": "code",
      "metadata": {
        "id": "QNGb48eibMam",
        "outputId": "8b985667-91a0-40a7-fcea-c6338bacaf21"
      },
      "source": [
        "# CODE HERE\n"
      ],
      "execution_count": null,
      "outputs": [
        {
          "data": {
            "text/plain": [
              "array([0.8796 , 0.87125, 0.85715])"
            ]
          },
          "execution_count": 25,
          "metadata": {},
          "output_type": "execute_result"
        }
      ]
    },
    {
      "cell_type": "markdown",
      "metadata": {
        "id": "JdQcDIYsbMan"
      },
      "source": [
        "#### to get better accurcy try scaling input"
      ]
    },
    {
      "cell_type": "code",
      "metadata": {
        "id": "4HMrWgiCbMan"
      },
      "source": [
        "from sklearn.preprocessing import StandardScaler"
      ],
      "execution_count": 27,
      "outputs": []
    },
    {
      "cell_type": "code",
      "metadata": {
        "colab": {
          "base_uri": "https://localhost:8080/"
        },
        "id": "Z7VVOCK9bMao",
        "outputId": "2b8b49b6-5f83-40b8-9dcd-719b9713b651"
      },
      "source": [
        "scaler = StandardScaler()\n",
        "X_train_scaled = scaler.fit_transform(x_train.astype(np.float64))\n",
        "cross_val_score(sgd_clf, X_train_scaled, y_train, cv=3, scoring=\"accuracy\")"
      ],
      "execution_count": 28,
      "outputs": [
        {
          "output_type": "stream",
          "name": "stderr",
          "text": [
            "/usr/local/lib/python3.7/dist-packages/sklearn/linear_model/_stochastic_gradient.py:557: ConvergenceWarning: Maximum number of iteration reached before convergence. Consider increasing max_iter to improve the fit.\n",
            "  ConvergenceWarning)\n"
          ]
        },
        {
          "output_type": "execute_result",
          "data": {
            "text/plain": [
              "array([0.90335, 0.901  , 0.8968 ])"
            ]
          },
          "metadata": {},
          "execution_count": 28
        }
      ]
    },
    {
      "cell_type": "code",
      "metadata": {
        "id": "pNOvN2ySbMap",
        "outputId": "fcab6c4e-a034-4374-d942-5c7f681f78e6"
      },
      "source": [
        "# CODE HERE\n"
      ],
      "execution_count": null,
      "outputs": [
        {
          "name": "stderr",
          "output_type": "stream",
          "text": [
            "C:\\Users\\H4C-M\\anaconda3\\lib\\site-packages\\sklearn\\linear_model\\_stochastic_gradient.py:570: ConvergenceWarning: Maximum number of iteration reached before convergence. Consider increasing max_iter to improve the fit.\n",
            "  warnings.warn(\"Maximum number of iteration reached before \"\n"
          ]
        },
        {
          "data": {
            "text/plain": [
              "array([0.89895, 0.9019 , 0.9008 ])"
            ]
          },
          "execution_count": 28,
          "metadata": {},
          "output_type": "execute_result"
        }
      ]
    },
    {
      "cell_type": "markdown",
      "metadata": {
        "id": "4kmMLyvzbMaq"
      },
      "source": [
        "## Error Analysis"
      ]
    },
    {
      "cell_type": "markdown",
      "metadata": {
        "id": "QhQxOO6CbMar"
      },
      "source": [
        "#### Take a look at the confusion matrix"
      ]
    },
    {
      "cell_type": "code",
      "metadata": {
        "id": "7mPuG3NBe2S5"
      },
      "source": [
        ""
      ],
      "execution_count": null,
      "outputs": []
    },
    {
      "cell_type": "code",
      "metadata": {
        "id": "Nra23JhJbMar"
      },
      "source": [
        "from sklearn.model_selection import cross_val_predict\n",
        "from sklearn.metrics import confusion_matrix"
      ],
      "execution_count": 31,
      "outputs": []
    },
    {
      "cell_type": "code",
      "metadata": {
        "colab": {
          "base_uri": "https://localhost:8080/"
        },
        "id": "CY4wtqQ7e3_Y",
        "outputId": "7b1c732c-12f3-4151-d6b1-9068026ab1d2"
      },
      "source": [
        "y_train_pred = cross_val_predict(sgd_clf, X_train_scaled, y_train, cv=3)\n",
        "conf_mx = confusion_matrix(y_train, y_train_pred)\n",
        "conf_mx"
      ],
      "execution_count": 32,
      "outputs": [
        {
          "output_type": "stream",
          "name": "stderr",
          "text": [
            "/usr/local/lib/python3.7/dist-packages/sklearn/linear_model/_stochastic_gradient.py:557: ConvergenceWarning: Maximum number of iteration reached before convergence. Consider increasing max_iter to improve the fit.\n",
            "  ConvergenceWarning)\n"
          ]
        },
        {
          "output_type": "execute_result",
          "data": {
            "text/plain": [
              "array([[5599,    0,   14,    9,    9,   33,   34,    6,  218,    1],\n",
              "       [   1, 6419,   46,   19,    3,   43,    5,    8,  185,   13],\n",
              "       [  27,   29, 5240,   94,   72,   19,   70,   36,  361,   10],\n",
              "       [  25,   18,  107, 5254,    2,  190,   22,   42,  406,   65],\n",
              "       [  13,   13,   37,   11, 5222,    9,   37,   22,  312,  166],\n",
              "       [  27,   18,   28,  155,   51, 4441,   77,   19,  538,   67],\n",
              "       [  28,   17,   50,    2,   40,   81, 5561,    6,  132,    1],\n",
              "       [  19,   15,   50,   24,   48,    8,    4, 5715,  167,  215],\n",
              "       [  16,   65,   36,  102,    1,  121,   33,    7, 5422,   48],\n",
              "       [  22,   23,   27,   58,  136,   33,    1,  168,  331, 5150]])"
            ]
          },
          "metadata": {},
          "execution_count": 32
        }
      ]
    },
    {
      "cell_type": "code",
      "metadata": {
        "id": "LgD6LzYsbMas",
        "outputId": "87aa7f4f-42bf-4823-86de-6cbeff9b5ff3"
      },
      "source": [
        "# CODE HERE\n"
      ],
      "execution_count": null,
      "outputs": [
        {
          "name": "stderr",
          "output_type": "stream",
          "text": [
            "C:\\Users\\H4C-M\\anaconda3\\lib\\site-packages\\sklearn\\linear_model\\_stochastic_gradient.py:570: ConvergenceWarning: Maximum number of iteration reached before convergence. Consider increasing max_iter to improve the fit.\n",
            "  warnings.warn(\"Maximum number of iteration reached before \"\n"
          ]
        },
        {
          "data": {
            "text/plain": [
              "array([[5593,    0,   24,    5,    7,   41,   37,    5,  210,    1],\n",
              "       [   1, 6424,   48,   21,    2,   39,    4,    9,  185,    9],\n",
              "       [  22,   26, 5262,   93,   67,   23,   64,   35,  357,    9],\n",
              "       [  25,   18,  123, 5257,    2,  200,   28,   41,  369,   68],\n",
              "       [   7,   16,   50,   10, 5221,   10,   37,   22,  318,  151],\n",
              "       [  29,   18,   36,  158,   49, 4463,   80,   17,  512,   59],\n",
              "       [  28,   18,   50,    2,   39,   88, 5551,    9,  133,    0],\n",
              "       [  18,   11,   50,   27,   53,   14,    4, 5714,  178,  196],\n",
              "       [  19,   60,   47,   95,    3,  119,   33,    8, 5429,   38],\n",
              "       [  21,   23,   28,   59,  121,   30,    1,  177,  370, 5119]],\n",
              "      dtype=int64)"
            ]
          },
          "execution_count": 33,
          "metadata": {},
          "output_type": "execute_result"
        }
      ]
    },
    {
      "cell_type": "markdown",
      "metadata": {
        "id": "PmIyBDFqbMat"
      },
      "source": [
        "#### using Matplotlib’s matshow() function look at an image representation of the confusion matrix"
      ]
    },
    {
      "cell_type": "code",
      "metadata": {
        "colab": {
          "base_uri": "https://localhost:8080/",
          "height": 275
        },
        "id": "lKn0ODNPfEBF",
        "outputId": "fa60b1fd-95f8-4a3c-f01f-ce64d1d7a1fc"
      },
      "source": [
        "plt.matshow(conf_mx, cmap=plt.cm.gray)\n",
        "plt.show()"
      ],
      "execution_count": 33,
      "outputs": [
        {
          "output_type": "display_data",
          "data": {
            "image/png": "[encoded data removed]",
            "text/plain": [
              "<Figure size 288x288 with 1 Axes>"
            ]
          },
          "metadata": {
            "needs_background": "light"
          }
        }
      ]
    },
    {
      "cell_type": "code",
      "metadata": {
        "id": "5NaSNqZ-bMau",
        "outputId": "43e0411a-5d0e-49a3-b95b-dcb2fa7db21d"
      },
      "source": [
        "# CODE HERE\n"
      ],
      "execution_count": null,
      "outputs": [
        {
          "data": {
            "image/png": "[encoded data removed]",
            "text/plain": [
              "<Figure size 288x288 with 1 Axes>"
            ]
          },
          "metadata": {
            "needs_background": "light"
          },
          "output_type": "display_data"
        }
      ]
    },
    {
      "cell_type": "markdown",
      "metadata": {
        "id": "b99AYDECbMav"
      },
      "source": [
        "#### Dividing each value in the confusion matrix by the number of images in the corresponding class"
      ]
    },
    {
      "cell_type": "code",
      "metadata": {
        "id": "0xZR0vZxbMav"
      },
      "source": [
        "row_sums = conf_mx.sum(axis=1, keepdims=True)\n",
        "norm_conf_mx = conf_mx / row_sums"
      ],
      "execution_count": 34,
      "outputs": []
    },
    {
      "cell_type": "markdown",
      "metadata": {
        "id": "YZ03-kfebMaw"
      },
      "source": [
        "#### fill the diagonal with zeros to keep only the errors"
      ]
    },
    {
      "cell_type": "code",
      "metadata": {
        "colab": {
          "base_uri": "https://localhost:8080/",
          "height": 275
        },
        "id": "zhrF21-7fOFw",
        "outputId": "5bfa48ed-18c6-4307-8e8d-64d972863ddb"
      },
      "source": [
        "np.fill_diagonal(norm_conf_mx, 0)\n",
        "plt.matshow(norm_conf_mx, cmap=plt.cm.gray)\n",
        "plt.show()"
      ],
      "execution_count": 35,
      "outputs": [
        {
          "output_type": "display_data",
          "data": {
            "image/png": "[encoded data removed]",
            "text/plain": [
              "<Figure size 288x288 with 1 Axes>"
            ]
          },
          "metadata": {
            "needs_background": "light"
          }
        }
      ]
    },
    {
      "cell_type": "code",
      "metadata": {
        "scrolled": true,
        "id": "UQ_0KP6sbMaw",
        "outputId": "b186773c-c3f5-4c87-e9ab-956bbfd92e73"
      },
      "source": [
        "# CODE HERE\n"
      ],
      "execution_count": null,
      "outputs": [
        {
          "data": {
            "image/png": "[encoded data removed]",
            "text/plain": [
              "<Figure size 288x288 with 1 Axes>"
            ]
          },
          "metadata": {
            "needs_background": "light"
          },
          "output_type": "display_data"
        }
      ]
    },
    {
      "cell_type": "code",
      "metadata": {
        "id": "C8qqLWEGbMax"
      },
      "source": [
        "def plot_digits(instances, images_per_row=10, **options):\n",
        "    size = 28\n",
        "    images_per_row = min(len(instances), images_per_row)\n",
        "    images = [instance.reshape(size,size) for instance in instances]\n",
        "    n_rows = (len(instances) - 1) // images_per_row + 1\n",
        "    row_images = []\n",
        "    n_empty = n_rows * images_per_row - len(instances)\n",
        "    images.append(np.zeros((size, size * n_empty)))\n",
        "    for row in range(n_rows):\n",
        "        rimages = images[row * images_per_row : (row + 1) * images_per_row]\n",
        "        row_images.append(np.concatenate(rimages, axis=1))\n",
        "    image = np.concatenate(row_images, axis=0)\n",
        "    plt.imshow(image, cmap = matplotlib.cm.binary, **options)\n",
        "    plt.axis(\"off\")"
      ],
      "execution_count": 36,
      "outputs": []
    },
    {
      "cell_type": "code",
      "metadata": {
        "colab": {
          "base_uri": "https://localhost:8080/",
          "height": 466
        },
        "id": "QeX-nAqzbMay",
        "outputId": "b20e4758-b322-441e-8f0a-57454bf2844e"
      },
      "source": [
        "cl_a, cl_b = '3', '5'\n",
        "X_aa = x_train[(y_train == cl_a) & (y_train_pred == cl_a)]\n",
        "X_ab = x_train[(y_train == cl_a) & (y_train_pred == cl_b)]\n",
        "X_ba = x_train[(y_train == cl_b) & (y_train_pred == cl_a)]\n",
        "X_bb = x_train[(y_train == cl_b) & (y_train_pred == cl_b)]\n",
        "plt.figure(figsize=(8,8))\n",
        "plt.subplot(221); plot_digits(X_aa[:25], images_per_row=5)\n",
        "plt.subplot(222); plot_digits(X_ab[:25], images_per_row=5)\n",
        "plt.subplot(223); plot_digits(X_ba[:25], images_per_row=5)\n",
        "plt.subplot(224); plot_digits(X_bb[:25], images_per_row=5)\n",
        "plt.show()\n"
      ],
      "execution_count": 37,
      "outputs": [
        {
          "output_type": "display_data",
          "data": {
            "image/png": "[encoded data removed]",
            "text/plain": [
              "<Figure size 576x576 with 4 Axes>"
            ]
          },
          "metadata": {
            "needs_background": "light"
          }
        }
      ]
    },
    {
      "cell_type": "markdown",
      "metadata": {
        "id": "n1t9IQjHbMay"
      },
      "source": [
        "## Multilabel Classification"
      ]
    },
    {
      "cell_type": "markdown",
      "metadata": {
        "id": "GHWVZcQhbMaz"
      },
      "source": [
        "#### creates a y_multilabel array containing two target labels for each digit image"
      ]
    },
    {
      "cell_type": "code",
      "metadata": {
        "colab": {
          "base_uri": "https://localhost:8080/"
        },
        "id": "leIoqtMDbMaz",
        "outputId": "4d24e504-c01e-4f75-991c-46648eeabc33"
      },
      "source": [
        "from sklearn.neighbors import KNeighborsClassifier\n",
        "y_train_large = (y_train >= '7')\n",
        "y_train_odd = (y_train == '1')\n",
        "y_multilabel = np.c_[y_train_large, y_train_odd]\n",
        "knn_clf = KNeighborsClassifier()\n",
        "knn_clf.fit(x_train, y_multilabel)"
      ],
      "execution_count": 38,
      "outputs": [
        {
          "output_type": "execute_result",
          "data": {
            "text/plain": [
              "KNeighborsClassifier(algorithm='auto', leaf_size=30, metric='minkowski',\n",
              "                     metric_params=None, n_jobs=None, n_neighbors=5, p=2,\n",
              "                     weights='uniform')"
            ]
          },
          "metadata": {},
          "execution_count": 38
        }
      ]
    },
    {
      "cell_type": "markdown",
      "metadata": {
        "id": "ac7Vyj41bMa0"
      },
      "source": [
        "#### find the prediction"
      ]
    },
    {
      "cell_type": "code",
      "metadata": {
        "colab": {
          "base_uri": "https://localhost:8080/"
        },
        "id": "wserHO0Onovj",
        "outputId": "009f4249-717c-41dd-ea9f-1761bb470af3"
      },
      "source": [
        "knn_clf.predict([some_digit])"
      ],
      "execution_count": 39,
      "outputs": [
        {
          "output_type": "execute_result",
          "data": {
            "text/plain": [
              "array([[ True, False]])"
            ]
          },
          "metadata": {},
          "execution_count": 39
        }
      ]
    },
    {
      "cell_type": "code",
      "metadata": {
        "id": "Nk8LgdZNbMa1",
        "outputId": "ab4fa89d-5ffe-43c7-d0d0-1366cf708137"
      },
      "source": [
        "# CODE HERE\n"
      ],
      "execution_count": null,
      "outputs": [
        {
          "data": {
            "text/plain": [
              "array([[ True, False]])"
            ]
          },
          "execution_count": 52,
          "metadata": {},
          "output_type": "execute_result"
        }
      ]
    },
    {
      "cell_type": "markdown",
      "metadata": {
        "id": "1o8wxUB5bMa1"
      },
      "source": [
        "#### computes the average F1 score across all labels\n",
        "***Warning: the following cell may take a very long time (possibly hours depending on your hardware)***"
      ]
    },
    {
      "cell_type": "code",
      "metadata": {
        "id": "_VCSBsTsbMa2"
      },
      "source": [
        "#y_train_knn_pred = cross_val_predict(knn_clf, X_train, y_train, cv=3)\n",
        "#f1_score(y_train, y_train_knn_pred, average=\"macro\")"
      ],
      "execution_count": 41,
      "outputs": []
    },
    {
      "cell_type": "markdown",
      "metadata": {
        "id": "295ci-fBbMa2"
      },
      "source": [
        "## Multioutput Classification\n"
      ]
    },
    {
      "cell_type": "code",
      "metadata": {
        "id": "EmBgaOyNbMa3"
      },
      "source": [
        "noise = np.random.randint(0, 100, (len(x_train), 784))\n",
        "X_train_mod = x_train + noise\n",
        "noise = np.random.randint(0, 100, (len(x_test), 784))\n",
        "X_test_mod = x_test + noise\n",
        "y_train_mod = x_train\n",
        "y_test_mod = x_test"
      ],
      "execution_count": 42,
      "outputs": []
    },
    {
      "cell_type": "markdown",
      "metadata": {
        "id": "HRQF6Iw4bMa3"
      },
      "source": [
        "#### Let’s take a peek at an image from the test set"
      ]
    },
    {
      "cell_type": "code",
      "metadata": {
        "id": "rUJjLHV8qccs",
        "outputId": "2320b940-ce78-4609-c168-c2c4fe787244",
        "colab": {
          "base_uri": "https://localhost:8080/",
          "height": 248
        }
      },
      "source": [
        "knn_clf.fit(X_train_mod, y_train_mod)\n",
        "clean_digit = knn_clf.predict([X_test_mod[0]])\n",
        "plot_digits(clean_digit)"
      ],
      "execution_count": 46,
      "outputs": [
        {
          "output_type": "display_data",
          "data": {
            "image/png": "[encoded data removed]",
            "text/plain": [
              "<Figure size 432x288 with 1 Axes>"
            ]
          },
          "metadata": {
            "needs_background": "light"
          }
        }
      ]
    },
    {
      "cell_type": "code",
      "metadata": {
        "id": "yZNWE1qwbMa4",
        "outputId": "4a6e208d-2737-41cb-e798-7240dbb4cd04"
      },
      "source": [
        "# CODE HERE\n"
      ],
      "execution_count": null,
      "outputs": [
        {
          "data": {
            "image/png": "[encoded data removed]",
            "text/plain": [
              "<Figure size 432x288 with 1 Axes>"
            ]
          },
          "metadata": {
            "needs_background": "light"
          },
          "output_type": "display_data"
        }
      ]
    },
    {
      "cell_type": "markdown",
      "metadata": {
        "id": "eMQLSagVbMa5"
      },
      "source": [
        "# Congrats you've finished your first classification Project🥳 !\n",
        "# #shAI_Club"
      ]
    }
  ]
}